{
 "cells": [
  {
   "cell_type": "code",
   "execution_count": 1,
   "id": "alien-compilation",
   "metadata": {},
   "outputs": [],
   "source": [
    "# in this comparison, we get the score that each heuristic return given a scrambled cube.\n",
    "# A good heuristic should ideally give a lower score when the cube becomes more scrambled"
   ]
  },
  {
   "cell_type": "code",
   "execution_count": 2,
   "id": "smaller-plant",
   "metadata": {},
   "outputs": [],
   "source": [
    "from rubiks import *\n",
    "from solver import *\n",
    "from heuristics import *\n",
    "import timeit\n",
    "import pandas as pd\n",
    "import dataframe_image as dfi\n",
    "import pickle"
   ]
  },
  {
   "cell_type": "code",
   "execution_count": 3,
   "id": "false-volume",
   "metadata": {},
   "outputs": [],
   "source": [
    "# unload scrambles\n",
    "filename = 'testScrambles.pkl'\n",
    "\n",
    "with open(filename, \"rb\") as fp:   # Unpickling\n",
    "    scrambles = pickle.load(fp)"
   ]
  },
  {
   "cell_type": "code",
   "execution_count": 4,
   "id": "addressed-production",
   "metadata": {},
   "outputs": [],
   "source": [
    "h = {\n",
    "    \"adapted-CFOP\": adaptedCFOP,\n",
    "    \"adapted-CFOP2\": adaptedCFOP2,\n",
    "    \"numberOfSolidRows\": numberOfSolidRows,\n",
    "    \"numberOfSolidFaces\": numberOfSolidFaces,\n",
    "    \"numberOfSolidRowsWithSolidFace\": numberOfSolidRowsWithSolidFace\n",
    "}"
   ]
  },
  {
   "cell_type": "code",
   "execution_count": 5,
   "id": "finite-immune",
   "metadata": {},
   "outputs": [],
   "source": [
    "results = {name: {} for name in h}"
   ]
  },
  {
   "cell_type": "code",
   "execution_count": 6,
   "id": "aging-powder",
   "metadata": {},
   "outputs": [],
   "source": [
    "for (name, heuristic) in h.items():\n",
    "    # get the max score of a solved cube\n",
    "    c = cube()\n",
    "    maxScore = heuristic((c, None))\n",
    "    results[name]['0-slice'] = maxScore\n",
    "    for step, step_scrambles in scrambles.items():\n",
    "        score = 0\n",
    "        for scramble in step_scrambles:\n",
    "            c = cube()\n",
    "            c.move(scramble)\n",
    "            score += heuristic((c, None))\n",
    "        score /= len(step_scrambles)\n",
    "        results[name]['{}-slice'.format(step)] = round(score, 2)"
   ]
  },
  {
   "cell_type": "code",
   "execution_count": 7,
   "id": "controversial-lloyd",
   "metadata": {},
   "outputs": [
    {
     "data": {
      "text/html": [
       "<div>\n",
       "<style scoped>\n",
       "    .dataframe tbody tr th:only-of-type {\n",
       "        vertical-align: middle;\n",
       "    }\n",
       "\n",
       "    .dataframe tbody tr th {\n",
       "        vertical-align: top;\n",
       "    }\n",
       "\n",
       "    .dataframe thead th {\n",
       "        text-align: right;\n",
       "    }\n",
       "</style>\n",
       "<table border=\"1\" class=\"dataframe\">\n",
       "  <thead>\n",
       "    <tr style=\"text-align: right;\">\n",
       "      <th></th>\n",
       "      <th>0-slice</th>\n",
       "      <th>3-slice</th>\n",
       "      <th>5-slice</th>\n",
       "      <th>7-slice</th>\n",
       "      <th>10-slice</th>\n",
       "    </tr>\n",
       "  </thead>\n",
       "  <tbody>\n",
       "    <tr>\n",
       "      <th>adapted-CFOP</th>\n",
       "      <td>204.0</td>\n",
       "      <td>89.58</td>\n",
       "      <td>48.80</td>\n",
       "      <td>19.65</td>\n",
       "      <td>8.15</td>\n",
       "    </tr>\n",
       "    <tr>\n",
       "      <th>adapted-CFOP2</th>\n",
       "      <td>123.0</td>\n",
       "      <td>39.68</td>\n",
       "      <td>10.54</td>\n",
       "      <td>-7.62</td>\n",
       "      <td>-14.65</td>\n",
       "    </tr>\n",
       "    <tr>\n",
       "      <th>numberOfSolidRows</th>\n",
       "      <td>144.0</td>\n",
       "      <td>79.37</td>\n",
       "      <td>51.00</td>\n",
       "      <td>28.70</td>\n",
       "      <td>22.10</td>\n",
       "    </tr>\n",
       "    <tr>\n",
       "      <th>numberOfSolidFaces</th>\n",
       "      <td>3.0</td>\n",
       "      <td>1.47</td>\n",
       "      <td>0.79</td>\n",
       "      <td>0.48</td>\n",
       "      <td>0.45</td>\n",
       "    </tr>\n",
       "    <tr>\n",
       "      <th>numberOfSolidRowsWithSolidFace</th>\n",
       "      <td>147.0</td>\n",
       "      <td>80.84</td>\n",
       "      <td>51.79</td>\n",
       "      <td>29.18</td>\n",
       "      <td>22.55</td>\n",
       "    </tr>\n",
       "  </tbody>\n",
       "</table>\n",
       "</div>"
      ],
      "text/plain": [
       "                                0-slice  3-slice  5-slice  7-slice  10-slice\n",
       "adapted-CFOP                      204.0    89.58    48.80    19.65      8.15\n",
       "adapted-CFOP2                     123.0    39.68    10.54    -7.62    -14.65\n",
       "numberOfSolidRows                 144.0    79.37    51.00    28.70     22.10\n",
       "numberOfSolidFaces                  3.0     1.47     0.79     0.48      0.45\n",
       "numberOfSolidRowsWithSolidFace    147.0    80.84    51.79    29.18     22.55"
      ]
     },
     "execution_count": 7,
     "metadata": {},
     "output_type": "execute_result"
    }
   ],
   "source": [
    "df = pd.DataFrame.from_dict(results, orient='index')\n",
    "df"
   ]
  },
  {
   "cell_type": "code",
   "execution_count": 11,
   "id": "going-thermal",
   "metadata": {},
   "outputs": [],
   "source": [
    "# dfi.export(df,\"../images/results/heuristicsCompatiblity.png\")"
   ]
  }
 ],
 "metadata": {
  "kernelspec": {
   "display_name": "Python 3",
   "language": "python",
   "name": "python3"
  },
  "language_info": {
   "codemirror_mode": {
    "name": "ipython",
    "version": 3
   },
   "file_extension": ".py",
   "mimetype": "text/x-python",
   "name": "python",
   "nbconvert_exporter": "python",
   "pygments_lexer": "ipython3",
   "version": "3.7.10"
  }
 },
 "nbformat": 4,
 "nbformat_minor": 5
}
