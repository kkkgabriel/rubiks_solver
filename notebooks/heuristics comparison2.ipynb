{
 "cells": [
  {
   "cell_type": "code",
   "execution_count": 7,
   "metadata": {},
   "outputs": [],
   "source": [
    "# in this comparison, we get the score that each heuristic return given a scrambled cube.\n",
    "# A good heuristic should ideally give a lower score when the cube becomes more scrambled"
   ]
  },
  {
   "cell_type": "code",
   "execution_count": 8,
   "metadata": {},
   "outputs": [],
   "source": [
    "from rubiks import *\n",
    "from solver import *\n",
    "from heuristics import *\n",
    "import timeit\n",
    "import pandas as pd\n",
    "import pickle"
   ]
  },
  {
   "cell_type": "code",
   "execution_count": 9,
   "metadata": {},
   "outputs": [],
   "source": [
    "# unload scrambles\n",
    "filename = 'testScrambles.pkl'\n",
    "\n",
    "with open(filename, \"rb\") as fp:   # Unpickling\n",
    "    scrambles = pickle.load(fp)"
   ]
  },
  {
   "cell_type": "code",
   "execution_count": 10,
   "metadata": {},
   "outputs": [],
   "source": [
    "h = {\n",
    "    \"numberOfCorrectColorsOnFace\": numberOfCorrectColorsOnFace,\n",
    "    \"numberOfPairedCornerNEdges\": numberOfPairedCornerNEdges,\n",
    "    \"oneStepCornerEdgePair\": oneStepCornerEdgePair,\n",
    "    \"compound1\": compound1,\n",
    "    \"compound2\": compound2,\n",
    "    \"numberOfSolidRows\": numberOfSolidRows,\n",
    "    \"numberOfSolidFaces\": numberOfSolidFaces,\n",
    "    \"compound3\": numberOfSolidRowsWithSolidFace\n",
    "}"
   ]
  },
  {
   "cell_type": "code",
   "execution_count": 11,
   "metadata": {},
   "outputs": [],
   "source": [
    "results = {name: {} for name in h}"
   ]
  },
  {
   "cell_type": "code",
   "execution_count": 13,
   "metadata": {},
   "outputs": [],
   "source": [
    "for (name, heuristic) in h.items():\n",
    "    # get the max score of a solved cube\n",
    "    c = cube()\n",
    "    maxScore = heuristic((c, None))\n",
    "    results[name]['Max score'] = maxScore\n",
    "    for step, step_scrambles in scrambles.items():\n",
    "        score = 0\n",
    "        for scramble in step_scrambles:\n",
    "            c = cube()\n",
    "            c.move(scramble)\n",
    "            score += heuristic((c, None))\n",
    "        score /= len(step_scrambles)\n",
    "        results[name][step] = score"
   ]
  },
  {
   "cell_type": "code",
   "execution_count": 6,
   "metadata": {},
   "outputs": [
    {
     "data": {
      "text/html": [
       "<div>\n",
       "<style scoped>\n",
       "    .dataframe tbody tr th:only-of-type {\n",
       "        vertical-align: middle;\n",
       "    }\n",
       "\n",
       "    .dataframe tbody tr th {\n",
       "        vertical-align: top;\n",
       "    }\n",
       "\n",
       "    .dataframe thead th {\n",
       "        text-align: right;\n",
       "    }\n",
       "</style>\n",
       "<table border=\"1\" class=\"dataframe\">\n",
       "  <thead>\n",
       "    <tr style=\"text-align: right;\">\n",
       "      <th></th>\n",
       "      <th>Max score</th>\n",
       "      <th>3</th>\n",
       "      <th>5</th>\n",
       "      <th>7</th>\n",
       "      <th>10</th>\n",
       "    </tr>\n",
       "  </thead>\n",
       "  <tbody>\n",
       "    <tr>\n",
       "      <th>numberOfCorrectColorsOnFace</th>\n",
       "      <td>54.0</td>\n",
       "      <td>26.157895</td>\n",
       "      <td>19.300</td>\n",
       "      <td>18.000</td>\n",
       "      <td>17.350</td>\n",
       "    </tr>\n",
       "    <tr>\n",
       "      <th>numberOfPairedCornerNEdges</th>\n",
       "      <td>48.0</td>\n",
       "      <td>22.105263</td>\n",
       "      <td>13.100</td>\n",
       "      <td>8.500</td>\n",
       "      <td>7.000</td>\n",
       "    </tr>\n",
       "    <tr>\n",
       "      <th>oneStepCornerEdgePair</th>\n",
       "      <td>24.0</td>\n",
       "      <td>14.842105</td>\n",
       "      <td>10.700</td>\n",
       "      <td>7.550</td>\n",
       "      <td>6.300</td>\n",
       "    </tr>\n",
       "    <tr>\n",
       "      <th>compound1</th>\n",
       "      <td>72.0</td>\n",
       "      <td>36.947368</td>\n",
       "      <td>23.800</td>\n",
       "      <td>16.050</td>\n",
       "      <td>13.300</td>\n",
       "    </tr>\n",
       "    <tr>\n",
       "      <th>compound2</th>\n",
       "      <td>84.0</td>\n",
       "      <td>40.526316</td>\n",
       "      <td>25.600</td>\n",
       "      <td>17.200</td>\n",
       "      <td>14.350</td>\n",
       "    </tr>\n",
       "    <tr>\n",
       "      <th>numberOfSolidRows</th>\n",
       "      <td>360.0</td>\n",
       "      <td>198.947368</td>\n",
       "      <td>128.250</td>\n",
       "      <td>70.000</td>\n",
       "      <td>49.500</td>\n",
       "    </tr>\n",
       "    <tr>\n",
       "      <th>numberOfSolidFaces</th>\n",
       "      <td>60.0</td>\n",
       "      <td>29.473684</td>\n",
       "      <td>15.875</td>\n",
       "      <td>9.625</td>\n",
       "      <td>9.375</td>\n",
       "    </tr>\n",
       "    <tr>\n",
       "      <th>compound3</th>\n",
       "      <td>480.0</td>\n",
       "      <td>257.894737</td>\n",
       "      <td>160.000</td>\n",
       "      <td>89.250</td>\n",
       "      <td>68.250</td>\n",
       "    </tr>\n",
       "  </tbody>\n",
       "</table>\n",
       "</div>"
      ],
      "text/plain": [
       "                             Max score           3        5       7      10\n",
       "numberOfCorrectColorsOnFace       54.0   26.157895   19.300  18.000  17.350\n",
       "numberOfPairedCornerNEdges        48.0   22.105263   13.100   8.500   7.000\n",
       "oneStepCornerEdgePair             24.0   14.842105   10.700   7.550   6.300\n",
       "compound1                         72.0   36.947368   23.800  16.050  13.300\n",
       "compound2                         84.0   40.526316   25.600  17.200  14.350\n",
       "numberOfSolidRows                360.0  198.947368  128.250  70.000  49.500\n",
       "numberOfSolidFaces                60.0   29.473684   15.875   9.625   9.375\n",
       "compound3                        480.0  257.894737  160.000  89.250  68.250"
      ]
     },
     "execution_count": 6,
     "metadata": {},
     "output_type": "execute_result"
    }
   ],
   "source": [
    "pd.DataFrame.from_dict(results, orient='index')"
   ]
  }
 ],
 "metadata": {
  "kernelspec": {
   "display_name": "Python 3",
   "language": "python",
   "name": "python3"
  },
  "language_info": {
   "codemirror_mode": {
    "name": "ipython",
    "version": 3
   },
   "file_extension": ".py",
   "mimetype": "text/x-python",
   "name": "python",
   "nbconvert_exporter": "python",
   "pygments_lexer": "ipython3",
   "version": "3.7.6"
  }
 },
 "nbformat": 4,
 "nbformat_minor": 5
}
