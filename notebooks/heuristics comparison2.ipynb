{
 "cells": [
  {
   "cell_type": "code",
   "execution_count": 1,
   "id": "widespread-essay",
   "metadata": {},
   "outputs": [],
   "source": [
    "# in this comparison, we get the score that each heuristic return given a scrambled cube.\n",
    "# A good heuristic should ideally give a lower score when the cube becomes more scrambled"
   ]
  },
  {
   "cell_type": "code",
   "execution_count": 2,
   "id": "dramatic-instrument",
   "metadata": {},
   "outputs": [],
   "source": [
    "from rubiks import *\n",
    "from solver import *\n",
    "from heuristics import *\n",
    "import timeit\n",
    "import pandas as pd\n",
    "import pickle"
   ]
  },
  {
   "cell_type": "code",
   "execution_count": 3,
   "id": "detected-uncertainty",
   "metadata": {},
   "outputs": [],
   "source": [
    "# unload scrambles\n",
    "filename = 'testScrambles.pkl'\n",
    "\n",
    "with open(filename, \"rb\") as fp:   # Unpickling\n",
    "    scrambles = pickle.load(fp)"
   ]
  },
  {
   "cell_type": "code",
   "execution_count": 4,
   "id": "level-integer",
   "metadata": {},
   "outputs": [],
   "source": [
    "h = {\n",
    "    \"numberOfCorrectColorsOnFace\": numberOfCorrectColorsOnFace,\n",
    "    \"numberOfPairedCornerNEdges\": numberOfPairedCornerNEdges,\n",
    "    \"oneStepCornerEdgePair\": oneStepCornerEdgePair,\n",
    "    \"compound1\": compound1,\n",
    "    \"compound2\": compound2,\n",
    "    \"numberOfSolidRows\": numberOfSolidRows\n",
    "}"
   ]
  },
  {
   "cell_type": "code",
   "execution_count": 5,
   "id": "expanded-albania",
   "metadata": {},
   "outputs": [],
   "source": [
    "results = {name: {} for name in h}"
   ]
  },
  {
   "cell_type": "code",
   "execution_count": 6,
   "id": "heated-study",
   "metadata": {},
   "outputs": [],
   "source": [
    "for (name, heuristic) in h.items():\n",
    "    # get the max score of a solved cube\n",
    "    c = cube()\n",
    "    maxScore = heuristic((c, None))\n",
    "    results[name]['Max score'] = maxScore\n",
    "    for step, step_scrambles in scrambles.items():\n",
    "        score = 0\n",
    "        for scramble in step_scrambles:\n",
    "            c = cube()\n",
    "            c.move(scramble)\n",
    "            score += heuristic((c, None))\n",
    "        score /= len(step_scrambles)\n",
    "        results[name][step] = score"
   ]
  },
  {
   "cell_type": "code",
   "execution_count": 7,
   "id": "affiliated-momentum",
   "metadata": {},
   "outputs": [
    {
     "data": {
      "text/html": [
       "<div>\n",
       "<style scoped>\n",
       "    .dataframe tbody tr th:only-of-type {\n",
       "        vertical-align: middle;\n",
       "    }\n",
       "\n",
       "    .dataframe tbody tr th {\n",
       "        vertical-align: top;\n",
       "    }\n",
       "\n",
       "    .dataframe thead th {\n",
       "        text-align: right;\n",
       "    }\n",
       "</style>\n",
       "<table border=\"1\" class=\"dataframe\">\n",
       "  <thead>\n",
       "    <tr style=\"text-align: right;\">\n",
       "      <th></th>\n",
       "      <th>Max score</th>\n",
       "      <th>3</th>\n",
       "      <th>5</th>\n",
       "      <th>7</th>\n",
       "      <th>10</th>\n",
       "    </tr>\n",
       "  </thead>\n",
       "  <tbody>\n",
       "    <tr>\n",
       "      <th>numberOfCorrectColorsOnFace</th>\n",
       "      <td>54</td>\n",
       "      <td>26.157895</td>\n",
       "      <td>19.30</td>\n",
       "      <td>18.00</td>\n",
       "      <td>17.35</td>\n",
       "    </tr>\n",
       "    <tr>\n",
       "      <th>numberOfPairedCornerNEdges</th>\n",
       "      <td>48</td>\n",
       "      <td>22.105263</td>\n",
       "      <td>13.10</td>\n",
       "      <td>8.50</td>\n",
       "      <td>7.00</td>\n",
       "    </tr>\n",
       "    <tr>\n",
       "      <th>oneStepCornerEdgePair</th>\n",
       "      <td>24</td>\n",
       "      <td>14.842105</td>\n",
       "      <td>10.70</td>\n",
       "      <td>7.55</td>\n",
       "      <td>6.30</td>\n",
       "    </tr>\n",
       "    <tr>\n",
       "      <th>compound1</th>\n",
       "      <td>72</td>\n",
       "      <td>36.947368</td>\n",
       "      <td>23.80</td>\n",
       "      <td>16.05</td>\n",
       "      <td>13.30</td>\n",
       "    </tr>\n",
       "    <tr>\n",
       "      <th>compound2</th>\n",
       "      <td>84</td>\n",
       "      <td>40.526316</td>\n",
       "      <td>25.60</td>\n",
       "      <td>17.20</td>\n",
       "      <td>14.35</td>\n",
       "    </tr>\n",
       "    <tr>\n",
       "      <th>numberOfSolidRows</th>\n",
       "      <td>360</td>\n",
       "      <td>198.947368</td>\n",
       "      <td>128.25</td>\n",
       "      <td>70.00</td>\n",
       "      <td>49.50</td>\n",
       "    </tr>\n",
       "  </tbody>\n",
       "</table>\n",
       "</div>"
      ],
      "text/plain": [
       "                             Max score           3       5      7     10\n",
       "numberOfCorrectColorsOnFace         54   26.157895   19.30  18.00  17.35\n",
       "numberOfPairedCornerNEdges          48   22.105263   13.10   8.50   7.00\n",
       "oneStepCornerEdgePair               24   14.842105   10.70   7.55   6.30\n",
       "compound1                           72   36.947368   23.80  16.05  13.30\n",
       "compound2                           84   40.526316   25.60  17.20  14.35\n",
       "numberOfSolidRows                  360  198.947368  128.25  70.00  49.50"
      ]
     },
     "execution_count": 7,
     "metadata": {},
     "output_type": "execute_result"
    }
   ],
   "source": [
    "pd.DataFrame.from_dict(results, orient='index')"
   ]
  }
 ],
 "metadata": {
  "kernelspec": {
   "display_name": "Python 3",
   "language": "python",
   "name": "python3"
  },
  "language_info": {
   "codemirror_mode": {
    "name": "ipython",
    "version": 3
   },
   "file_extension": ".py",
   "mimetype": "text/x-python",
   "name": "python",
   "nbconvert_exporter": "python",
   "pygments_lexer": "ipython3",
   "version": "3.7.10"
  }
 },
 "nbformat": 4,
 "nbformat_minor": 5
}
