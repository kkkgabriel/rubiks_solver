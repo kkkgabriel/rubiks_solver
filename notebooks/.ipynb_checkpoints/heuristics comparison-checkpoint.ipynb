{
 "cells": [
  {
   "cell_type": "code",
   "execution_count": 1,
   "id": "dramatic-instrument",
   "metadata": {},
   "outputs": [],
   "source": [
    "from rubiks import *\n",
    "from solver import *\n",
    "from heuristics import *\n",
    "import timeit\n",
    "import pandas as pd"
   ]
  },
  {
   "cell_type": "code",
   "execution_count": 2,
   "id": "level-integer",
   "metadata": {},
   "outputs": [],
   "source": [
    "h = {\n",
    "    \"numberOfCorrectColorsOnFace\": numberOfCorrectColorsOnFace,\n",
    "    \"numberOfPairedCornerNEdges\": numberOfPairedCornerNEdges,\n",
    "    \"oneStepCornerEdgePair\": oneStepCornerEdgePair,\n",
    "    \"compound1\": compound1,\n",
    "    \"compound2\": compound2\n",
    "}"
   ]
  },
  {
   "cell_type": "code",
   "execution_count": 3,
   "id": "expanded-albania",
   "metadata": {},
   "outputs": [],
   "source": [
    "all_steps = [3,5] # 20 for any scramble\n",
    "eps = 5\n",
    "results = {}"
   ]
  },
  {
   "cell_type": "code",
   "execution_count": 6,
   "id": "billion-breast",
   "metadata": {},
   "outputs": [],
   "source": [
    "for heuristic in h.items():\n",
    "    result = {}\n",
    "    for steps in all_steps:\n",
    "        time = 0\n",
    "        solved = 0\n",
    "        for i in range(eps):\n",
    "\n",
    "            moves = generateScramble(steps)\n",
    "            c = cube()\n",
    "            c.move(moves)\n",
    "\n",
    "            s = solver(c, h=heuristic[1])\n",
    "            start = timeit.default_timer()\n",
    "            s.solve(maxDepth=steps, display=False, verbose=False)\n",
    "            if s.solutionFound:\n",
    "                solved +=1\n",
    "            stop = timeit.default_timer()\n",
    "            timeTaken = stop - start\n",
    "            time += timeTaken\n",
    "            \n",
    "        avg_time = time/eps\n",
    "        result['{}_steps_avg_time'.format(steps)] = avg_time\n",
    "        result['{}_steps_solves'.format(steps)] = (solved/eps) * 100\n",
    "    results[heuristic[0]] = result\n",
    "        "
   ]
  },
  {
   "cell_type": "code",
   "execution_count": 7,
   "id": "affiliated-momentum",
   "metadata": {},
   "outputs": [
    {
     "data": {
      "text/html": [
       "<div>\n",
       "<style scoped>\n",
       "    .dataframe tbody tr th:only-of-type {\n",
       "        vertical-align: middle;\n",
       "    }\n",
       "\n",
       "    .dataframe tbody tr th {\n",
       "        vertical-align: top;\n",
       "    }\n",
       "\n",
       "    .dataframe thead th {\n",
       "        text-align: right;\n",
       "    }\n",
       "</style>\n",
       "<table border=\"1\" class=\"dataframe\">\n",
       "  <thead>\n",
       "    <tr style=\"text-align: right;\">\n",
       "      <th></th>\n",
       "      <th>3_steps_avg_time</th>\n",
       "      <th>3_steps_solves</th>\n",
       "      <th>5_steps_avg_time</th>\n",
       "      <th>5_steps_solves</th>\n",
       "    </tr>\n",
       "  </thead>\n",
       "  <tbody>\n",
       "    <tr>\n",
       "      <th>numberOfCorrectColorsOnFace</th>\n",
       "      <td>0.001633</td>\n",
       "      <td>100.0</td>\n",
       "      <td>0.066685</td>\n",
       "      <td>80.0</td>\n",
       "    </tr>\n",
       "    <tr>\n",
       "      <th>numberOfPairedCornerNEdges</th>\n",
       "      <td>0.002821</td>\n",
       "      <td>80.0</td>\n",
       "      <td>0.003728</td>\n",
       "      <td>80.0</td>\n",
       "    </tr>\n",
       "    <tr>\n",
       "      <th>oneStepCornerEdgePair</th>\n",
       "      <td>0.012210</td>\n",
       "      <td>80.0</td>\n",
       "      <td>13.921269</td>\n",
       "      <td>80.0</td>\n",
       "    </tr>\n",
       "    <tr>\n",
       "      <th>potentialEdgeCornerPairs</th>\n",
       "      <td>0.004405</td>\n",
       "      <td>60.0</td>\n",
       "      <td>0.039692</td>\n",
       "      <td>40.0</td>\n",
       "    </tr>\n",
       "    <tr>\n",
       "      <th>compound2</th>\n",
       "      <td>0.005573</td>\n",
       "      <td>80.0</td>\n",
       "      <td>0.189555</td>\n",
       "      <td>40.0</td>\n",
       "    </tr>\n",
       "  </tbody>\n",
       "</table>\n",
       "</div>"
      ],
      "text/plain": [
       "                             3_steps_avg_time  3_steps_solves  \\\n",
       "numberOfCorrectColorsOnFace          0.001633           100.0   \n",
       "numberOfPairedCornerNEdges           0.002821            80.0   \n",
       "oneStepCornerEdgePair                0.012210            80.0   \n",
       "potentialEdgeCornerPairs             0.004405            60.0   \n",
       "compound2                            0.005573            80.0   \n",
       "\n",
       "                             5_steps_avg_time  5_steps_solves  \n",
       "numberOfCorrectColorsOnFace          0.066685            80.0  \n",
       "numberOfPairedCornerNEdges           0.003728            80.0  \n",
       "oneStepCornerEdgePair               13.921269            80.0  \n",
       "potentialEdgeCornerPairs             0.039692            40.0  \n",
       "compound2                            0.189555            40.0  "
      ]
     },
     "execution_count": 7,
     "metadata": {},
     "output_type": "execute_result"
    }
   ],
   "source": [
    "pd.DataFrame.from_dict(results, orient='index')"
   ]
  }
 ],
 "metadata": {
  "kernelspec": {
   "display_name": "Python 3",
   "language": "python",
   "name": "python3"
  },
  "language_info": {
   "codemirror_mode": {
    "name": "ipython",
    "version": 3
   },
   "file_extension": ".py",
   "mimetype": "text/x-python",
   "name": "python",
   "nbconvert_exporter": "python",
   "pygments_lexer": "ipython3",
   "version": "3.7.10"
  }
 },
 "nbformat": 4,
 "nbformat_minor": 5
}
