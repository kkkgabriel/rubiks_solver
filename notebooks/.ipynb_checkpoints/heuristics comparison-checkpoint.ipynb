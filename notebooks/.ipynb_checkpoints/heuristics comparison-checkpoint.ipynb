{
 "cells": [
  {
   "cell_type": "code",
   "execution_count": 1,
   "id": "dramatic-instrument",
   "metadata": {},
   "outputs": [],
   "source": [
    "from rubiks import *\n",
    "from solver import *\n",
    "from heuristics import *\n",
    "import timeit\n",
    "import pandas as pd\n",
    "import pickle"
   ]
  },
  {
   "cell_type": "code",
   "execution_count": 2,
   "id": "level-integer",
   "metadata": {},
   "outputs": [],
   "source": [
    "h = {\n",
    "    \"numberOfCorrectColorsOnFace\": numberOfCorrectColorsOnFace,\n",
    "    \"numberOfPairedCornerNEdges\": numberOfPairedCornerNEdges,\n",
    "    \"oneStepCornerEdgePair\": oneStepCornerEdgePair,\n",
    "    \"compound1\": compound1,\n",
    "    \"compound2\": compound2,\n",
    "    \"numberOfSolidRows\": numberOfSolidRows\n",
    "}"
   ]
  },
  {
   "cell_type": "code",
   "execution_count": 3,
   "id": "expanded-albania",
   "metadata": {},
   "outputs": [],
   "source": [
    "results = {}"
   ]
  },
  {
   "cell_type": "code",
   "execution_count": 4,
   "id": "heated-study",
   "metadata": {},
   "outputs": [],
   "source": [
    "# unload scrambles\n",
    "filename = 'testScrambles.pkl'\n",
    "\n",
    "with open(filename, \"rb\") as fp:   # Unpickling\n",
    "    scrambles = pickle.load(fp)"
   ]
  },
  {
   "cell_type": "code",
   "execution_count": null,
   "id": "consecutive-diana",
   "metadata": {},
   "outputs": [],
   "source": [
    "scrambles = {steps: {} for steps in all_steps}\n",
    "# make scrambles\n",
    "for steps in all_steps:\n",
    "    for i in range(eps):\n",
    "        scramble = generateScramble(steps)\n",
    "        scrambles[steps][scramble] = None\n",
    "    "
   ]
  },
  {
   "cell_type": "code",
   "execution_count": 5,
   "id": "developing-fiber",
   "metadata": {},
   "outputs": [
    {
     "data": {
      "text/plain": [
       "20"
      ]
     },
     "execution_count": 5,
     "metadata": {},
     "output_type": "execute_result"
    }
   ],
   "source": [
    "len(scrambles[10])"
   ]
  },
  {
   "cell_type": "code",
   "execution_count": 6,
   "id": "billion-breast",
   "metadata": {},
   "outputs": [],
   "source": [
    "results  = {name: {} for name in h}\n",
    "for (name, heuristic) in h.items():\n",
    "    result = {}\n",
    "    for step, step_scrambles in scrambles.items():\n",
    "        time = 0\n",
    "        solved = 0\n",
    "        for scramble in step_scrambles:\n",
    "            c = cube()\n",
    "            c.move(scramble)\n",
    "\n",
    "            s = solver(c, h=heuristic)\n",
    "            start = timeit.default_timer()\n",
    "            s.solve(maxDepth=10, display=False, verbose=False, earlyTermination=500)\n",
    "            if s.solutionFound:\n",
    "                solved +=1\n",
    "            stop = timeit.default_timer()\n",
    "            timeTaken = stop - start\n",
    "            time += timeTaken\n",
    "\n",
    "        avg_time = time/len(step_scrambles)\n",
    "        result['{}_steps_avg_time'.format(step)] = avg_time\n",
    "        result['{}_steps_solves (%)'.format(step)] = (solved/len(step_scrambles)) * 100\n",
    "        results[name] = result\n",
    "        "
   ]
  },
  {
   "cell_type": "code",
   "execution_count": 7,
   "id": "affiliated-momentum",
   "metadata": {},
   "outputs": [
    {
     "data": {
      "text/html": [
       "<div>\n",
       "<style scoped>\n",
       "    .dataframe tbody tr th:only-of-type {\n",
       "        vertical-align: middle;\n",
       "    }\n",
       "\n",
       "    .dataframe tbody tr th {\n",
       "        vertical-align: top;\n",
       "    }\n",
       "\n",
       "    .dataframe thead th {\n",
       "        text-align: right;\n",
       "    }\n",
       "</style>\n",
       "<table border=\"1\" class=\"dataframe\">\n",
       "  <thead>\n",
       "    <tr style=\"text-align: right;\">\n",
       "      <th></th>\n",
       "      <th>3_steps_avg_time</th>\n",
       "      <th>3_steps_solves (%)</th>\n",
       "      <th>5_steps_avg_time</th>\n",
       "      <th>5_steps_solves (%)</th>\n",
       "      <th>7_steps_avg_time</th>\n",
       "      <th>7_steps_solves (%)</th>\n",
       "      <th>10_steps_avg_time</th>\n",
       "      <th>10_steps_solves (%)</th>\n",
       "    </tr>\n",
       "  </thead>\n",
       "  <tbody>\n",
       "    <tr>\n",
       "      <th>numberOfCorrectColorsOnFace</th>\n",
       "      <td>0.001625</td>\n",
       "      <td>89.473684</td>\n",
       "      <td>0.118140</td>\n",
       "      <td>35.0</td>\n",
       "      <td>0.139077</td>\n",
       "      <td>5.0</td>\n",
       "      <td>0.136417</td>\n",
       "      <td>0.0</td>\n",
       "    </tr>\n",
       "    <tr>\n",
       "      <th>numberOfPairedCornerNEdges</th>\n",
       "      <td>0.002169</td>\n",
       "      <td>100.000000</td>\n",
       "      <td>0.034173</td>\n",
       "      <td>95.0</td>\n",
       "      <td>0.152976</td>\n",
       "      <td>80.0</td>\n",
       "      <td>0.085964</td>\n",
       "      <td>100.0</td>\n",
       "    </tr>\n",
       "    <tr>\n",
       "      <th>oneStepCornerEdgePair</th>\n",
       "      <td>6.492416</td>\n",
       "      <td>57.894737</td>\n",
       "      <td>8.866462</td>\n",
       "      <td>10.0</td>\n",
       "      <td>8.067980</td>\n",
       "      <td>5.0</td>\n",
       "      <td>4.883303</td>\n",
       "      <td>0.0</td>\n",
       "    </tr>\n",
       "    <tr>\n",
       "      <th>compound1</th>\n",
       "      <td>0.005219</td>\n",
       "      <td>78.947368</td>\n",
       "      <td>0.532352</td>\n",
       "      <td>70.0</td>\n",
       "      <td>0.469782</td>\n",
       "      <td>30.0</td>\n",
       "      <td>0.822391</td>\n",
       "      <td>35.0</td>\n",
       "    </tr>\n",
       "    <tr>\n",
       "      <th>compound2</th>\n",
       "      <td>0.004257</td>\n",
       "      <td>94.736842</td>\n",
       "      <td>0.059829</td>\n",
       "      <td>75.0</td>\n",
       "      <td>0.400904</td>\n",
       "      <td>50.0</td>\n",
       "      <td>0.449582</td>\n",
       "      <td>20.0</td>\n",
       "    </tr>\n",
       "    <tr>\n",
       "      <th>numberOfSolidRows</th>\n",
       "      <td>0.003761</td>\n",
       "      <td>100.000000</td>\n",
       "      <td>0.007499</td>\n",
       "      <td>80.0</td>\n",
       "      <td>0.159601</td>\n",
       "      <td>55.0</td>\n",
       "      <td>0.288562</td>\n",
       "      <td>20.0</td>\n",
       "    </tr>\n",
       "  </tbody>\n",
       "</table>\n",
       "</div>"
      ],
      "text/plain": [
       "                             3_steps_avg_time  3_steps_solves (%)  \\\n",
       "numberOfCorrectColorsOnFace          0.001625           89.473684   \n",
       "numberOfPairedCornerNEdges           0.002169          100.000000   \n",
       "oneStepCornerEdgePair                6.492416           57.894737   \n",
       "compound1                            0.005219           78.947368   \n",
       "compound2                            0.004257           94.736842   \n",
       "numberOfSolidRows                    0.003761          100.000000   \n",
       "\n",
       "                             5_steps_avg_time  5_steps_solves (%)  \\\n",
       "numberOfCorrectColorsOnFace          0.118140                35.0   \n",
       "numberOfPairedCornerNEdges           0.034173                95.0   \n",
       "oneStepCornerEdgePair                8.866462                10.0   \n",
       "compound1                            0.532352                70.0   \n",
       "compound2                            0.059829                75.0   \n",
       "numberOfSolidRows                    0.007499                80.0   \n",
       "\n",
       "                             7_steps_avg_time  7_steps_solves (%)  \\\n",
       "numberOfCorrectColorsOnFace          0.139077                 5.0   \n",
       "numberOfPairedCornerNEdges           0.152976                80.0   \n",
       "oneStepCornerEdgePair                8.067980                 5.0   \n",
       "compound1                            0.469782                30.0   \n",
       "compound2                            0.400904                50.0   \n",
       "numberOfSolidRows                    0.159601                55.0   \n",
       "\n",
       "                             10_steps_avg_time  10_steps_solves (%)  \n",
       "numberOfCorrectColorsOnFace           0.136417                  0.0  \n",
       "numberOfPairedCornerNEdges            0.085964                100.0  \n",
       "oneStepCornerEdgePair                 4.883303                  0.0  \n",
       "compound1                             0.822391                 35.0  \n",
       "compound2                             0.449582                 20.0  \n",
       "numberOfSolidRows                     0.288562                 20.0  "
      ]
     },
     "execution_count": 7,
     "metadata": {},
     "output_type": "execute_result"
    }
   ],
   "source": [
    "pd.DataFrame.from_dict(results, orient='index')"
   ]
  }
 ],
 "metadata": {
  "kernelspec": {
   "display_name": "Python 3",
   "language": "python",
   "name": "python3"
  },
  "language_info": {
   "codemirror_mode": {
    "name": "ipython",
    "version": 3
   },
   "file_extension": ".py",
   "mimetype": "text/x-python",
   "name": "python",
   "nbconvert_exporter": "python",
   "pygments_lexer": "ipython3",
   "version": "3.7.10"
  }
 },
 "nbformat": 4,
 "nbformat_minor": 5
}
