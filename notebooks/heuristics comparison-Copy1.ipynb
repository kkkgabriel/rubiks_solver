{
 "cells": [
  {
   "cell_type": "code",
   "execution_count": 1,
   "id": "express-experience",
   "metadata": {},
   "outputs": [],
   "source": [
    "from rubiks import *\n",
    "from solver import *\n",
    "from heuristics import *\n",
    "import timeit\n",
    "import pandas as pd\n",
    "import dataframe_image as dfi\n",
    "import pickle"
   ]
  },
  {
   "cell_type": "code",
   "execution_count": 2,
   "id": "enclosed-sixth",
   "metadata": {},
   "outputs": [
    {
     "ename": "NameError",
     "evalue": "name 'adaptedCFOP3' is not defined",
     "output_type": "error",
     "traceback": [
      "\u001b[1;31m---------------------------------------------------------------------------\u001b[0m",
      "\u001b[1;31mNameError\u001b[0m                                 Traceback (most recent call last)",
      "\u001b[1;32m<ipython-input-2-5e4d917f02f8>\u001b[0m in \u001b[0;36m<module>\u001b[1;34m\u001b[0m\n\u001b[0;32m      1\u001b[0m h = {\n\u001b[1;32m----> 2\u001b[1;33m     \u001b[1;34m\"adapted-CFOP3\"\u001b[0m\u001b[1;33m:\u001b[0m \u001b[0madaptedCFOP3\u001b[0m\u001b[1;33m,\u001b[0m\u001b[1;33m\u001b[0m\u001b[1;33m\u001b[0m\u001b[0m\n\u001b[0m\u001b[0;32m      3\u001b[0m     \u001b[1;34m\"adapted-CFOP4\"\u001b[0m\u001b[1;33m:\u001b[0m\u001b[0madaptedCFOP4\u001b[0m\u001b[1;33m\u001b[0m\u001b[1;33m\u001b[0m\u001b[0m\n\u001b[0;32m      4\u001b[0m }\n",
      "\u001b[1;31mNameError\u001b[0m: name 'adaptedCFOP3' is not defined"
     ]
    }
   ],
   "source": [
    "h = {\n",
    "    \"adapted-CFOP3\": adaptedCFOP3,\n",
    "    \"adapted-CFOP4\":adaptedCFOP4\n",
    "}"
   ]
  },
  {
   "cell_type": "code",
   "execution_count": null,
   "id": "purple-lithuania",
   "metadata": {},
   "outputs": [],
   "source": [
    "results = {}"
   ]
  },
  {
   "cell_type": "code",
   "execution_count": null,
   "id": "complex-overview",
   "metadata": {},
   "outputs": [],
   "source": [
    "all_steps = [3,5,7,10]\n",
    "eps = 100\n",
    "scrambles = {steps: {} for steps in all_steps}\n",
    "\n",
    "# make scrambles\n",
    "for steps in all_steps:\n",
    "    for i in range(eps):\n",
    "        scramble = generateScramble(steps)\n",
    "        scrambles[steps][scramble] = None\n",
    "    "
   ]
  },
  {
   "cell_type": "code",
   "execution_count": null,
   "id": "resistant-vegetation",
   "metadata": {},
   "outputs": [],
   "source": [
    "results  = {name: {} for name in h}\n",
    "for (name, heuristic) in h.items():\n",
    "    result = {}\n",
    "    for step, step_scrambles in scrambles.items():\n",
    "        time = 0\n",
    "        solved = 0\n",
    "        for scramble in step_scrambles:\n",
    "            c = cube()\n",
    "            c.move(scramble)\n",
    "\n",
    "            s = solver(c, h=heuristic)\n",
    "            start = timeit.default_timer()\n",
    "            s.solve(maxDepth=10, display=False, verbose=False, earlyTermination=500)\n",
    "            if s.solutionFound:\n",
    "                solved +=1\n",
    "            stop = timeit.default_timer()\n",
    "            timeTaken = stop - start\n",
    "            time += timeTaken\n",
    "\n",
    "        avg_time = time/len(step_scrambles)\n",
    "        result['{}_slice_avg_time'.format(step)] = round(avg_time, 2)\n",
    "        result['{}_slice_solves (%)'.format(step)] = round((solved/len(step_scrambles)) * 100, 2)\n",
    "        results[name] = result\n",
    "        "
   ]
  },
  {
   "cell_type": "code",
   "execution_count": null,
   "id": "french-tennessee",
   "metadata": {},
   "outputs": [],
   "source": [
    "df = pd.DataFrame.from_dict(results, orient='index')\n",
    "df"
   ]
  },
  {
   "cell_type": "code",
   "execution_count": null,
   "id": "differential-cycling",
   "metadata": {},
   "outputs": [],
   "source": [
    "n = 4\n",
    "a = df[df.columns[:n]].values\n",
    "adf = pd.DataFrame(a)\n",
    "adf.rename(\n",
    "    index={i: v for i, v in enumerate(list(df.index))},\n",
    "    columns={i: v for i, v in enumerate(list(df.columns)[:n])},\n",
    "    inplace=True)\n",
    "adf"
   ]
  },
  {
   "cell_type": "code",
   "execution_count": null,
   "id": "imperial-joyce",
   "metadata": {},
   "outputs": [],
   "source": [
    "# dfi.export(adf,\"../images/results/scores1.png\")"
   ]
  },
  {
   "cell_type": "code",
   "execution_count": null,
   "id": "false-shower",
   "metadata": {},
   "outputs": [],
   "source": [
    "n = 4\n",
    "b = df[df.columns[n:]].values\n",
    "bdf = pd.DataFrame(b)\n",
    "bdf.rename(\n",
    "    index={i: v for i, v in enumerate(list(df.index))},\n",
    "    columns={i: v for i, v in enumerate(list(df.columns)[n:])},\n",
    "    inplace=True)\n",
    "bdf"
   ]
  },
  {
   "cell_type": "code",
   "execution_count": null,
   "id": "welcome-trade",
   "metadata": {},
   "outputs": [],
   "source": [
    "# dfi.export(bdf,\"../images/results/scores2.png\")"
   ]
  }
 ],
 "metadata": {
  "kernelspec": {
   "display_name": "Python 3",
   "language": "python",
   "name": "python3"
  },
  "language_info": {
   "codemirror_mode": {
    "name": "ipython",
    "version": 3
   },
   "file_extension": ".py",
   "mimetype": "text/x-python",
   "name": "python",
   "nbconvert_exporter": "python",
   "pygments_lexer": "ipython3",
   "version": "3.7.10"
  }
 },
 "nbformat": 4,
 "nbformat_minor": 5
}
