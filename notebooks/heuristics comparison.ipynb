{
 "cells": [
  {
   "cell_type": "code",
   "execution_count": 1,
   "id": "dramatic-instrument",
   "metadata": {},
   "outputs": [],
   "source": [
    "from rubiks import *\n",
    "from solver import *\n",
    "from heuristics import *\n",
    "import timeit\n",
    "import pandas as pd\n",
    "import pickle"
   ]
  },
  {
   "cell_type": "code",
   "execution_count": 2,
   "id": "level-integer",
   "metadata": {},
   "outputs": [],
   "source": [
    "h = {\n",
    "    \"numberOfCorrectColorsOnFace\": numberOfCorrectColorsOnFace,\n",
    "    \"numberOfPairedCornerNEdges\": numberOfPairedCornerNEdges,\n",
    "    \"oneStepCornerEdgePair\": oneStepCornerEdgePair,\n",
    "    \"compound1\": compound1,\n",
    "    \"compound2\": compound2\n",
    "}"
   ]
  },
  {
   "cell_type": "code",
   "execution_count": 3,
   "id": "expanded-albania",
   "metadata": {},
   "outputs": [],
   "source": [
    "results = {}"
   ]
  },
  {
   "cell_type": "code",
   "execution_count": 4,
   "id": "heated-study",
   "metadata": {},
   "outputs": [],
   "source": [
    "# unload scrambles\n",
    "filename = 'testScrambles.pkl'\n",
    "\n",
    "with open(filename, \"rb\") as fp:   # Unpickling\n",
    "    scrambles = pickle.load(fp)"
   ]
  },
  {
   "cell_type": "code",
   "execution_count": 15,
   "id": "developing-fiber",
   "metadata": {},
   "outputs": [
    {
     "data": {
      "text/plain": [
       "20"
      ]
     },
     "execution_count": 15,
     "metadata": {},
     "output_type": "execute_result"
    }
   ],
   "source": [
    "len(scrambles[10])"
   ]
  },
  {
   "cell_type": "code",
   "execution_count": 16,
   "id": "billion-breast",
   "metadata": {},
   "outputs": [],
   "source": [
    "results  = {name: {} for name in h}\n",
    "for (name, heuristic) in h.items():\n",
    "    result = {}\n",
    "    time = 0\n",
    "    solved = 0\n",
    "    for step, step_scrambles in scrambles.items():\n",
    "        for scramble in step_scrambles:\n",
    "            c = cube()\n",
    "            c.move(scramble)\n",
    "\n",
    "            s = solver(c, h=heuristic)\n",
    "            start = timeit.default_timer()\n",
    "            s.solve(maxDepth=10, display=False, verbose=False, earlyTermination=500)\n",
    "            if s.solutionFound:\n",
    "                solved +=1\n",
    "            stop = timeit.default_timer()\n",
    "            timeTaken = stop - start\n",
    "            time += timeTaken\n",
    "\n",
    "        avg_time = time/len(step_scrambles)\n",
    "        result['{}_steps_avg_time'.format(step)] = avg_time\n",
    "        result['{}_steps_solves (%)'.format(step)] = (solved/len(step_scrambles)) * 100\n",
    "        results[name] = result\n",
    "        "
   ]
  },
  {
   "cell_type": "code",
   "execution_count": 17,
   "id": "affiliated-momentum",
   "metadata": {},
   "outputs": [
    {
     "data": {
      "text/html": [
       "<div>\n",
       "<style scoped>\n",
       "    .dataframe tbody tr th:only-of-type {\n",
       "        vertical-align: middle;\n",
       "    }\n",
       "\n",
       "    .dataframe tbody tr th {\n",
       "        vertical-align: top;\n",
       "    }\n",
       "\n",
       "    .dataframe thead th {\n",
       "        text-align: right;\n",
       "    }\n",
       "</style>\n",
       "<table border=\"1\" class=\"dataframe\">\n",
       "  <thead>\n",
       "    <tr style=\"text-align: right;\">\n",
       "      <th></th>\n",
       "      <th>3_steps_avg_time</th>\n",
       "      <th>3_steps_solves (%)</th>\n",
       "      <th>5_steps_avg_time</th>\n",
       "      <th>5_steps_solves (%)</th>\n",
       "      <th>7_steps_avg_time</th>\n",
       "      <th>7_steps_solves (%)</th>\n",
       "      <th>10_steps_avg_time</th>\n",
       "      <th>10_steps_solves (%)</th>\n",
       "    </tr>\n",
       "  </thead>\n",
       "  <tbody>\n",
       "    <tr>\n",
       "      <th>numberOfCorrectColorsOnFace</th>\n",
       "      <td>0.001463</td>\n",
       "      <td>89.473684</td>\n",
       "      <td>0.101623</td>\n",
       "      <td>120.0</td>\n",
       "      <td>0.218963</td>\n",
       "      <td>125.0</td>\n",
       "      <td>0.350520</td>\n",
       "      <td>125.0</td>\n",
       "    </tr>\n",
       "    <tr>\n",
       "      <th>numberOfPairedCornerNEdges</th>\n",
       "      <td>0.002394</td>\n",
       "      <td>100.000000</td>\n",
       "      <td>0.032395</td>\n",
       "      <td>190.0</td>\n",
       "      <td>0.186026</td>\n",
       "      <td>270.0</td>\n",
       "      <td>0.265945</td>\n",
       "      <td>370.0</td>\n",
       "    </tr>\n",
       "    <tr>\n",
       "      <th>oneStepCornerEdgePair</th>\n",
       "      <td>6.230299</td>\n",
       "      <td>57.894737</td>\n",
       "      <td>14.453986</td>\n",
       "      <td>65.0</td>\n",
       "      <td>22.138920</td>\n",
       "      <td>70.0</td>\n",
       "      <td>26.950657</td>\n",
       "      <td>70.0</td>\n",
       "    </tr>\n",
       "    <tr>\n",
       "      <th>compound1</th>\n",
       "      <td>0.004253</td>\n",
       "      <td>78.947368</td>\n",
       "      <td>0.549631</td>\n",
       "      <td>145.0</td>\n",
       "      <td>1.057160</td>\n",
       "      <td>175.0</td>\n",
       "      <td>1.869043</td>\n",
       "      <td>210.0</td>\n",
       "    </tr>\n",
       "    <tr>\n",
       "      <th>compound2</th>\n",
       "      <td>0.004688</td>\n",
       "      <td>94.736842</td>\n",
       "      <td>0.063658</td>\n",
       "      <td>165.0</td>\n",
       "      <td>0.450651</td>\n",
       "      <td>215.0</td>\n",
       "      <td>0.929411</td>\n",
       "      <td>235.0</td>\n",
       "    </tr>\n",
       "  </tbody>\n",
       "</table>\n",
       "</div>"
      ],
      "text/plain": [
       "                             3_steps_avg_time  3_steps_solves (%)  \\\n",
       "numberOfCorrectColorsOnFace          0.001463           89.473684   \n",
       "numberOfPairedCornerNEdges           0.002394          100.000000   \n",
       "oneStepCornerEdgePair                6.230299           57.894737   \n",
       "compound1                            0.004253           78.947368   \n",
       "compound2                            0.004688           94.736842   \n",
       "\n",
       "                             5_steps_avg_time  5_steps_solves (%)  \\\n",
       "numberOfCorrectColorsOnFace          0.101623               120.0   \n",
       "numberOfPairedCornerNEdges           0.032395               190.0   \n",
       "oneStepCornerEdgePair               14.453986                65.0   \n",
       "compound1                            0.549631               145.0   \n",
       "compound2                            0.063658               165.0   \n",
       "\n",
       "                             7_steps_avg_time  7_steps_solves (%)  \\\n",
       "numberOfCorrectColorsOnFace          0.218963               125.0   \n",
       "numberOfPairedCornerNEdges           0.186026               270.0   \n",
       "oneStepCornerEdgePair               22.138920                70.0   \n",
       "compound1                            1.057160               175.0   \n",
       "compound2                            0.450651               215.0   \n",
       "\n",
       "                             10_steps_avg_time  10_steps_solves (%)  \n",
       "numberOfCorrectColorsOnFace           0.350520                125.0  \n",
       "numberOfPairedCornerNEdges            0.265945                370.0  \n",
       "oneStepCornerEdgePair                26.950657                 70.0  \n",
       "compound1                             1.869043                210.0  \n",
       "compound2                             0.929411                235.0  "
      ]
     },
     "execution_count": 17,
     "metadata": {},
     "output_type": "execute_result"
    }
   ],
   "source": [
    "pd.DataFrame.from_dict(results, orient='index')"
   ]
  }
 ],
 "metadata": {
  "kernelspec": {
   "display_name": "Python 3",
   "language": "python",
   "name": "python3"
  },
  "language_info": {
   "codemirror_mode": {
    "name": "ipython",
    "version": 3
   },
   "file_extension": ".py",
   "mimetype": "text/x-python",
   "name": "python",
   "nbconvert_exporter": "python",
   "pygments_lexer": "ipython3",
   "version": "3.7.10"
  }
 },
 "nbformat": 4,
 "nbformat_minor": 5
}
